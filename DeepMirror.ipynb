{
 "cells": [
  {
   "cell_type": "code",
   "execution_count": 1,
   "id": "d151c9c5",
   "metadata": {},
   "outputs": [
    {
     "name": "stderr",
     "output_type": "stream",
     "text": [
      "Found local copy...\n",
      "Loading...\n",
      "Done!\n"
     ]
    }
   ],
   "source": [
    "from tdc.single_pred import ADME\n",
    "data = ADME(name = 'PAMPA_NCATS')\n",
    "split = data.get_split()"
   ]
  },
  {
   "cell_type": "code",
   "execution_count": null,
   "id": "e9563b66",
   "metadata": {},
   "outputs": [],
   "source": []
  },
  {
   "cell_type": "code",
   "execution_count": 2,
   "id": "dd2ba304",
   "metadata": {},
   "outputs": [],
   "source": [
    "#from tdc.single_pred import ADME\n",
    "#data = ADME(name = 'HIA_Hou')\n",
    "#split = data.get_split()"
   ]
  },
  {
   "cell_type": "code",
   "execution_count": 3,
   "id": "8d5074e9",
   "metadata": {},
   "outputs": [
    {
     "data": {
      "text/plain": [
       "'from keras.preprocessing.text import Tokenizer\\ntokenizer = Tokenizer()\\ntokenizer.fit_on_texts(split[\\'train\\'].Drug)\\nsequences = tokenizer.texts_to_sequences(split[\\'train\\'].Drug)\\nword_index = tokenizer.word_index \\nbow = {}\\nfor key in word_index:\\n    bow[key] = sequences[0].count(word_index[key])\\n\\nprint(f\"Bag of word sentence 1:\\n{bow}\")\\nprint(f\\'We found {len(word_index)} unique tokens.\\')\\n'"
      ]
     },
     "execution_count": 3,
     "metadata": {},
     "output_type": "execute_result"
    }
   ],
   "source": [
    "'''from keras.preprocessing.text import Tokenizer\n",
    "tokenizer = Tokenizer()\n",
    "tokenizer.fit_on_texts(split['train'].Drug)\n",
    "sequences = tokenizer.texts_to_sequences(split['train'].Drug)\n",
    "word_index = tokenizer.word_index \n",
    "bow = {}\n",
    "for key in word_index:\n",
    "    bow[key] = sequences[0].count(word_index[key])\n",
    "\n",
    "print(f\"Bag of word sentence 1:\\n{bow}\")\n",
    "print(f'We found {len(word_index)} unique tokens.')\n",
    "'''"
   ]
  },
  {
   "cell_type": "code",
   "execution_count": 4,
   "id": "9458c441",
   "metadata": {},
   "outputs": [
    {
     "data": {
      "text/html": [
       "<div>\n",
       "<style scoped>\n",
       "    .dataframe tbody tr th:only-of-type {\n",
       "        vertical-align: middle;\n",
       "    }\n",
       "\n",
       "    .dataframe tbody tr th {\n",
       "        vertical-align: top;\n",
       "    }\n",
       "\n",
       "    .dataframe thead th {\n",
       "        text-align: right;\n",
       "    }\n",
       "</style>\n",
       "<table border=\"1\" class=\"dataframe\">\n",
       "  <thead>\n",
       "    <tr style=\"text-align: right;\">\n",
       "      <th></th>\n",
       "      <th>Drug_ID</th>\n",
       "      <th>Drug</th>\n",
       "      <th>Y</th>\n",
       "    </tr>\n",
       "  </thead>\n",
       "  <tbody>\n",
       "    <tr>\n",
       "      <th>0</th>\n",
       "      <td>1259573</td>\n",
       "      <td>COC1=C(C=C(C=C1)CCN2C(=CC(=O)NC2=S)N)OC</td>\n",
       "      <td>0</td>\n",
       "    </tr>\n",
       "    <tr>\n",
       "      <th>1</th>\n",
       "      <td>1275864</td>\n",
       "      <td>COC1=C(C=C(C=C1)Cl)C(=O)NC2=CC=C(C=C2)NC(=O)C3...</td>\n",
       "      <td>1</td>\n",
       "    </tr>\n",
       "    <tr>\n",
       "      <th>2</th>\n",
       "      <td>2030130</td>\n",
       "      <td>CN1C2=CC=CC=C2C(=O)C3=C1N=C(N(C3=O)C4=CC=CC=C4...</td>\n",
       "      <td>1</td>\n",
       "    </tr>\n",
       "    <tr>\n",
       "      <th>3</th>\n",
       "      <td>4422695</td>\n",
       "      <td>CC1=C(C=C(C=C1)NS(=O)(=O)C2=CC=CC(=C2)C(=O)O)S...</td>\n",
       "      <td>1</td>\n",
       "    </tr>\n",
       "    <tr>\n",
       "      <th>4</th>\n",
       "      <td>1131802</td>\n",
       "      <td>COC1=CC(=CC(=C1O)OC)C2=NC(=C(N2)C3=CC=CS3)C4=C...</td>\n",
       "      <td>1</td>\n",
       "    </tr>\n",
       "    <tr>\n",
       "      <th>5</th>\n",
       "      <td>759785</td>\n",
       "      <td>CN(C)C1=C2C(=C(SC2=NC=C1)C(=O)N)N</td>\n",
       "      <td>1</td>\n",
       "    </tr>\n",
       "    <tr>\n",
       "      <th>6</th>\n",
       "      <td>1489415</td>\n",
       "      <td>C1=CC=C2C(=C1)C(=N)N(N=N2)C3=CC=C(C=C3)C(F)(F)F</td>\n",
       "      <td>1</td>\n",
       "    </tr>\n",
       "    <tr>\n",
       "      <th>7</th>\n",
       "      <td>1075912</td>\n",
       "      <td>C1=CC=C2C(=C1)C=C(C(=O)O2)C3=CSC(=N3)NC4=CC(=C...</td>\n",
       "      <td>0</td>\n",
       "    </tr>\n",
       "    <tr>\n",
       "      <th>8</th>\n",
       "      <td>15740787</td>\n",
       "      <td>C[N+]1=C2N(C3=CC=CC=C31)N=C(CS2)C4=CC=C(C=C4)O...</td>\n",
       "      <td>0</td>\n",
       "    </tr>\n",
       "    <tr>\n",
       "      <th>9</th>\n",
       "      <td>16682542</td>\n",
       "      <td>CCO.C1=CC=C2C=C(C=CC2=C1)SC3=CC4=C(C=C3)N=C(N=...</td>\n",
       "      <td>1</td>\n",
       "    </tr>\n",
       "    <tr>\n",
       "      <th>10</th>\n",
       "      <td>4880352</td>\n",
       "      <td>C1=CC=NC(=C1)C2=CSC(=N2)NC(=O)C3=CC(=CC=C3)N4C...</td>\n",
       "      <td>1</td>\n",
       "    </tr>\n",
       "    <tr>\n",
       "      <th>11</th>\n",
       "      <td>1955100</td>\n",
       "      <td>CCN1C=C(C(=O)C2=CN=C(N=C21)N3CCN(CC3)C(=S)NC4=...</td>\n",
       "      <td>1</td>\n",
       "    </tr>\n",
       "    <tr>\n",
       "      <th>12</th>\n",
       "      <td>2985259</td>\n",
       "      <td>C1CN(CCN1C2=CC=C(C=C2)NC(=O)C3=CC(=CN=C3)Br)C(...</td>\n",
       "      <td>1</td>\n",
       "    </tr>\n",
       "    <tr>\n",
       "      <th>13</th>\n",
       "      <td>6461311</td>\n",
       "      <td>C1CC1C(=O)NC2=CC=C(C=C2)C(=O)NC3=CC=CC=C3O</td>\n",
       "      <td>1</td>\n",
       "    </tr>\n",
       "    <tr>\n",
       "      <th>14</th>\n",
       "      <td>16397347</td>\n",
       "      <td>CC(C)C(C(=O)O)NC(=O)CNC(=O)CO/N=C/1\\CC[C@@]2(C...</td>\n",
       "      <td>0</td>\n",
       "    </tr>\n",
       "    <tr>\n",
       "      <th>15</th>\n",
       "      <td>741756</td>\n",
       "      <td>CS(=O)(=O)C1=CC2=C(C=C1)N=C(S2)NC(=O)C3CC3</td>\n",
       "      <td>1</td>\n",
       "    </tr>\n",
       "    <tr>\n",
       "      <th>16</th>\n",
       "      <td>23604753</td>\n",
       "      <td>CC1=NC2=C(C=NN2C(=C1C3=CC=CC=C3)N)C4=CC=CC=C4</td>\n",
       "      <td>1</td>\n",
       "    </tr>\n",
       "    <tr>\n",
       "      <th>17</th>\n",
       "      <td>434973</td>\n",
       "      <td>CC(=O)NC1CCC2=CC(=C(C(=C2C3=CC=C(C(=O)C=C13)SC...</td>\n",
       "      <td>1</td>\n",
       "    </tr>\n",
       "    <tr>\n",
       "      <th>18</th>\n",
       "      <td>277845</td>\n",
       "      <td>C1CCC(=O)C2=CC(=C(C=C2C1)O)O</td>\n",
       "      <td>1</td>\n",
       "    </tr>\n",
       "    <tr>\n",
       "      <th>19</th>\n",
       "      <td>3234914</td>\n",
       "      <td>CS(=O)(=O)NC1=CC=CC(=C1)C2=NC=CC(=N2)N3C=CN=C3</td>\n",
       "      <td>1</td>\n",
       "    </tr>\n",
       "    <tr>\n",
       "      <th>20</th>\n",
       "      <td>3235557</td>\n",
       "      <td>CC1=C(C(=NO1)C)C2=CC3=C(C=C2)N=CN=C3N4CCC(CC4)...</td>\n",
       "      <td>0</td>\n",
       "    </tr>\n",
       "    <tr>\n",
       "      <th>21</th>\n",
       "      <td>79472</td>\n",
       "      <td>CC1=CC(=C2C=C(C=CC2=N1)NC(=O)NC3=CC4=C(C=C(N=C...</td>\n",
       "      <td>0</td>\n",
       "    </tr>\n",
       "    <tr>\n",
       "      <th>22</th>\n",
       "      <td>3246218</td>\n",
       "      <td>C1=NC(=C2C(=N1)N(C=N2)[C@H]3[C@H]([C@H]([C@@H]...</td>\n",
       "      <td>0</td>\n",
       "    </tr>\n",
       "    <tr>\n",
       "      <th>23</th>\n",
       "      <td>256519</td>\n",
       "      <td>CC1(C=CC2=C3C(=C(C(=C2O1)CCC(=O)O)OC)C=CC(O3)(...</td>\n",
       "      <td>1</td>\n",
       "    </tr>\n",
       "    <tr>\n",
       "      <th>24</th>\n",
       "      <td>92180</td>\n",
       "      <td>CC(=CCNC1=NC=NC2=C1NC=N2)C</td>\n",
       "      <td>1</td>\n",
       "    </tr>\n",
       "    <tr>\n",
       "      <th>25</th>\n",
       "      <td>284708</td>\n",
       "      <td>C1=CNC(=C1)C(=O)C2=C(C=CC(=C2)Cl)NC(=O)CN</td>\n",
       "      <td>1</td>\n",
       "    </tr>\n",
       "    <tr>\n",
       "      <th>26</th>\n",
       "      <td>67532</td>\n",
       "      <td>C1=C(C=C(C(=C1Br)O)Br)C[C@@H](C(=O)O)N</td>\n",
       "      <td>0</td>\n",
       "    </tr>\n",
       "    <tr>\n",
       "      <th>27</th>\n",
       "      <td>9363</td>\n",
       "      <td>CCN(CC)C(=O)C1=CC(=C(C=C1)O)OC</td>\n",
       "      <td>1</td>\n",
       "    </tr>\n",
       "    <tr>\n",
       "      <th>28</th>\n",
       "      <td>53708</td>\n",
       "      <td>CC1=C(NC(=O)N1)C(=O)C2=CC=C(C=C2)SC</td>\n",
       "      <td>1</td>\n",
       "    </tr>\n",
       "    <tr>\n",
       "      <th>29</th>\n",
       "      <td>3343</td>\n",
       "      <td>CC(CC1=CC=C(C=C1)O)NCC(C2=CC(=CC(=C2)O)O)O</td>\n",
       "      <td>0</td>\n",
       "    </tr>\n",
       "  </tbody>\n",
       "</table>\n",
       "</div>"
      ],
      "text/plain": [
       "     Drug_ID                                               Drug  Y\n",
       "0    1259573            COC1=C(C=C(C=C1)CCN2C(=CC(=O)NC2=S)N)OC  0\n",
       "1    1275864  COC1=C(C=C(C=C1)Cl)C(=O)NC2=CC=C(C=C2)NC(=O)C3...  1\n",
       "2    2030130  CN1C2=CC=CC=C2C(=O)C3=C1N=C(N(C3=O)C4=CC=CC=C4...  1\n",
       "3    4422695  CC1=C(C=C(C=C1)NS(=O)(=O)C2=CC=CC(=C2)C(=O)O)S...  1\n",
       "4    1131802  COC1=CC(=CC(=C1O)OC)C2=NC(=C(N2)C3=CC=CS3)C4=C...  1\n",
       "5     759785                  CN(C)C1=C2C(=C(SC2=NC=C1)C(=O)N)N  1\n",
       "6    1489415    C1=CC=C2C(=C1)C(=N)N(N=N2)C3=CC=C(C=C3)C(F)(F)F  1\n",
       "7    1075912  C1=CC=C2C(=C1)C=C(C(=O)O2)C3=CSC(=N3)NC4=CC(=C...  0\n",
       "8   15740787  C[N+]1=C2N(C3=CC=CC=C31)N=C(CS2)C4=CC=C(C=C4)O...  0\n",
       "9   16682542  CCO.C1=CC=C2C=C(C=CC2=C1)SC3=CC4=C(C=C3)N=C(N=...  1\n",
       "10   4880352  C1=CC=NC(=C1)C2=CSC(=N2)NC(=O)C3=CC(=CC=C3)N4C...  1\n",
       "11   1955100  CCN1C=C(C(=O)C2=CN=C(N=C21)N3CCN(CC3)C(=S)NC4=...  1\n",
       "12   2985259  C1CN(CCN1C2=CC=C(C=C2)NC(=O)C3=CC(=CN=C3)Br)C(...  1\n",
       "13   6461311         C1CC1C(=O)NC2=CC=C(C=C2)C(=O)NC3=CC=CC=C3O  1\n",
       "14  16397347  CC(C)C(C(=O)O)NC(=O)CNC(=O)CO/N=C/1\\CC[C@@]2(C...  0\n",
       "15    741756         CS(=O)(=O)C1=CC2=C(C=C1)N=C(S2)NC(=O)C3CC3  1\n",
       "16  23604753      CC1=NC2=C(C=NN2C(=C1C3=CC=CC=C3)N)C4=CC=CC=C4  1\n",
       "17    434973  CC(=O)NC1CCC2=CC(=C(C(=C2C3=CC=C(C(=O)C=C13)SC...  1\n",
       "18    277845                       C1CCC(=O)C2=CC(=C(C=C2C1)O)O  1\n",
       "19   3234914     CS(=O)(=O)NC1=CC=CC(=C1)C2=NC=CC(=N2)N3C=CN=C3  1\n",
       "20   3235557  CC1=C(C(=NO1)C)C2=CC3=C(C=C2)N=CN=C3N4CCC(CC4)...  0\n",
       "21     79472  CC1=CC(=C2C=C(C=CC2=N1)NC(=O)NC3=CC4=C(C=C(N=C...  0\n",
       "22   3246218  C1=NC(=C2C(=N1)N(C=N2)[C@H]3[C@H]([C@H]([C@@H]...  0\n",
       "23    256519  CC1(C=CC2=C3C(=C(C(=C2O1)CCC(=O)O)OC)C=CC(O3)(...  1\n",
       "24     92180                         CC(=CCNC1=NC=NC2=C1NC=N2)C  1\n",
       "25    284708          C1=CNC(=C1)C(=O)C2=C(C=CC(=C2)Cl)NC(=O)CN  1\n",
       "26     67532             C1=C(C=C(C(=C1Br)O)Br)C[C@@H](C(=O)O)N  0\n",
       "27      9363                     CCN(CC)C(=O)C1=CC(=C(C=C1)O)OC  1\n",
       "28     53708                CC1=C(NC(=O)N1)C(=O)C2=CC=C(C=C2)SC  1\n",
       "29      3343         CC(CC1=CC=C(C=C1)O)NCC(C2=CC(=CC(=C2)O)O)O  0"
      ]
     },
     "execution_count": 4,
     "metadata": {},
     "output_type": "execute_result"
    }
   ],
   "source": [
    "split['train'].head(30)"
   ]
  },
  {
   "cell_type": "code",
   "execution_count": 5,
   "id": "98ae691e",
   "metadata": {},
   "outputs": [
    {
     "data": {
      "text/plain": [
       "1    1225\n",
       "0     199\n",
       "Name: Y, dtype: int64"
      ]
     },
     "execution_count": 5,
     "metadata": {},
     "output_type": "execute_result"
    }
   ],
   "source": [
    "split['train'].Y.value_counts()"
   ]
  },
  {
   "cell_type": "code",
   "execution_count": 6,
   "id": "3a039fa1",
   "metadata": {},
   "outputs": [
    {
     "data": {
      "text/plain": [
       "Drug_ID    199\n",
       "Drug       199\n",
       "Y          199\n",
       "dtype: int64"
      ]
     },
     "execution_count": 6,
     "metadata": {},
     "output_type": "execute_result"
    }
   ],
   "source": [
    "split['train'][split['train'].Y==0].count()\n"
   ]
  },
  {
   "cell_type": "code",
   "execution_count": 7,
   "id": "e573795e",
   "metadata": {},
   "outputs": [],
   "source": [
    "import numpy as np\n",
    "X=np.array(split['train'].Drug).reshape(-1, 1)\n",
    "y=split['train'].Y"
   ]
  },
  {
   "cell_type": "code",
   "execution_count": 8,
   "id": "ef0dcae2",
   "metadata": {},
   "outputs": [
    {
     "data": {
      "text/plain": [
       "array([['COC1=C(C=C(C=C1)CCN2C(=CC(=O)NC2=S)N)OC'],\n",
       "       ['COC1=C(C=C(C=C1)Cl)C(=O)NC2=CC=C(C=C2)NC(=O)C3=CC=CO3'],\n",
       "       ['CN1C2=CC=CC=C2C(=O)C3=C1N=C(N(C3=O)C4=CC=CC=C4)C5CCCCC5'],\n",
       "       ...,\n",
       "       ['COC(=O)CNC(=O)C1=NC(=C2N1C=CC=C2)C3=CC=C(C=C3)F'],\n",
       "       ['CC1=CSC2=NC(=CN12)C3=CC(=CC=C3)NC(=O)C4=CC=CC=C4Cl'],\n",
       "       ['CCNC(=O)N1CCCN(CC1)C2=C(C=C(C=C2)C(=O)NCCC3=C(C=C(C=C3)Cl)Cl)NC(=O)C4=CC(=CC=C4)Cl']],\n",
       "      dtype=object)"
      ]
     },
     "execution_count": 8,
     "metadata": {},
     "output_type": "execute_result"
    }
   ],
   "source": [
    "X"
   ]
  },
  {
   "cell_type": "code",
   "execution_count": 9,
   "id": "b4a83b7d",
   "metadata": {},
   "outputs": [
    {
     "data": {
      "text/html": [
       "<div>\n",
       "<style scoped>\n",
       "    .dataframe tbody tr th:only-of-type {\n",
       "        vertical-align: middle;\n",
       "    }\n",
       "\n",
       "    .dataframe tbody tr th {\n",
       "        vertical-align: top;\n",
       "    }\n",
       "\n",
       "    .dataframe thead th {\n",
       "        text-align: right;\n",
       "    }\n",
       "</style>\n",
       "<table border=\"1\" class=\"dataframe\">\n",
       "  <thead>\n",
       "    <tr style=\"text-align: right;\">\n",
       "      <th></th>\n",
       "      <th>Drug_ID</th>\n",
       "      <th>Drug</th>\n",
       "      <th>Y</th>\n",
       "    </tr>\n",
       "  </thead>\n",
       "  <tbody>\n",
       "    <tr>\n",
       "      <th>1</th>\n",
       "      <td>1275864</td>\n",
       "      <td>COC1=C(C=C(C=C1)Cl)C(=O)NC2=CC=C(C=C2)NC(=O)C3...</td>\n",
       "      <td>1</td>\n",
       "    </tr>\n",
       "    <tr>\n",
       "      <th>2</th>\n",
       "      <td>2030130</td>\n",
       "      <td>CN1C2=CC=CC=C2C(=O)C3=C1N=C(N(C3=O)C4=CC=CC=C4...</td>\n",
       "      <td>1</td>\n",
       "    </tr>\n",
       "    <tr>\n",
       "      <th>3</th>\n",
       "      <td>4422695</td>\n",
       "      <td>CC1=C(C=C(C=C1)NS(=O)(=O)C2=CC=CC(=C2)C(=O)O)S...</td>\n",
       "      <td>1</td>\n",
       "    </tr>\n",
       "    <tr>\n",
       "      <th>4</th>\n",
       "      <td>1131802</td>\n",
       "      <td>COC1=CC(=CC(=C1O)OC)C2=NC(=C(N2)C3=CC=CS3)C4=C...</td>\n",
       "      <td>1</td>\n",
       "    </tr>\n",
       "    <tr>\n",
       "      <th>5</th>\n",
       "      <td>759785</td>\n",
       "      <td>CN(C)C1=C2C(=C(SC2=NC=C1)C(=O)N)N</td>\n",
       "      <td>1</td>\n",
       "    </tr>\n",
       "    <tr>\n",
       "      <th>...</th>\n",
       "      <td>...</td>\n",
       "      <td>...</td>\n",
       "      <td>...</td>\n",
       "    </tr>\n",
       "    <tr>\n",
       "      <th>188</th>\n",
       "      <td>2566614</td>\n",
       "      <td>C1=CC=C(C=C1)C2=CSC(=N2)NC(=O)C3=CC=CC=C3N4C=N...</td>\n",
       "      <td>0</td>\n",
       "    </tr>\n",
       "    <tr>\n",
       "      <th>1310</th>\n",
       "      <td>127030711</td>\n",
       "      <td>C1=CC=C(C=C1)CCCNC(=O)C2=CC=CC(=C2)C3=CC(=C4C(...</td>\n",
       "      <td>0</td>\n",
       "    </tr>\n",
       "    <tr>\n",
       "      <th>256</th>\n",
       "      <td>70789460</td>\n",
       "      <td>C1=CC=C(C=C1)C2=CSC(=N2)NS(=O)(=O)C3=CC=C(C=C3...</td>\n",
       "      <td>0</td>\n",
       "    </tr>\n",
       "    <tr>\n",
       "      <th>241</th>\n",
       "      <td>70701402</td>\n",
       "      <td>C1CN(CCN1)C2=CC=C(C=C2)N[S+](=O)(C3=CC=C(C=C3)...</td>\n",
       "      <td>0</td>\n",
       "    </tr>\n",
       "    <tr>\n",
       "      <th>320</th>\n",
       "      <td>134787997</td>\n",
       "      <td>C[S+](=O)(C1=CC=C(C=C1)C2=C3C=NC=CN3C(=N2)C(=O...</td>\n",
       "      <td>0</td>\n",
       "    </tr>\n",
       "  </tbody>\n",
       "</table>\n",
       "<p>2450 rows × 3 columns</p>\n",
       "</div>"
      ],
      "text/plain": [
       "        Drug_ID                                               Drug  Y\n",
       "1       1275864  COC1=C(C=C(C=C1)Cl)C(=O)NC2=CC=C(C=C2)NC(=O)C3...  1\n",
       "2       2030130  CN1C2=CC=CC=C2C(=O)C3=C1N=C(N(C3=O)C4=CC=CC=C4...  1\n",
       "3       4422695  CC1=C(C=C(C=C1)NS(=O)(=O)C2=CC=CC(=C2)C(=O)O)S...  1\n",
       "4       1131802  COC1=CC(=CC(=C1O)OC)C2=NC(=C(N2)C3=CC=CS3)C4=C...  1\n",
       "5        759785                  CN(C)C1=C2C(=C(SC2=NC=C1)C(=O)N)N  1\n",
       "...         ...                                                ... ..\n",
       "188     2566614  C1=CC=C(C=C1)C2=CSC(=N2)NC(=O)C3=CC=CC=C3N4C=N...  0\n",
       "1310  127030711  C1=CC=C(C=C1)CCCNC(=O)C2=CC=CC(=C2)C3=CC(=C4C(...  0\n",
       "256    70789460  C1=CC=C(C=C1)C2=CSC(=N2)NS(=O)(=O)C3=CC=C(C=C3...  0\n",
       "241    70701402  C1CN(CCN1)C2=CC=C(C=C2)N[S+](=O)(C3=CC=C(C=C3)...  0\n",
       "320   134787997  C[S+](=O)(C1=CC=C(C=C1)C2=C3C=NC=CN3C(=N2)C(=O...  0\n",
       "\n",
       "[2450 rows x 3 columns]"
      ]
     },
     "execution_count": 9,
     "metadata": {},
     "output_type": "execute_result"
    }
   ],
   "source": [
    "## If class balancing is not done it will just predict one label that is the majority label.\n",
    "\n",
    "from sklearn.utils import resample\n",
    "import pandas as pd\n",
    "df_majority = split['train'][split['train'].Y==1]\n",
    "df_minority = split['train'][split['train'].Y==0]\n",
    " \n",
    "# Upsample minority class\n",
    "df_minority_upsampled = resample(df_minority, \n",
    "                                 replace=True,     # sample with replacement\n",
    "                                 n_samples=len(df_majority),    # to match majority class\n",
    "                                 random_state=123) # reproducible results\n",
    " \n",
    "# Combine majority class with upsampled minority class\n",
    "df_upsampled = pd.concat([df_majority, df_minority_upsampled])\n",
    " \n",
    "# Display new class counts\n",
    "df_upsampled"
   ]
  },
  {
   "cell_type": "code",
   "execution_count": 10,
   "id": "008ca98d",
   "metadata": {},
   "outputs": [],
   "source": [
    "X=np.array(df_upsampled.Drug).reshape(-1, 1)\n",
    "y=df_upsampled.Y"
   ]
  },
  {
   "cell_type": "code",
   "execution_count": 11,
   "id": "01bd3f3b",
   "metadata": {},
   "outputs": [
    {
     "name": "stdout",
     "output_type": "stream",
     "text": [
      "   0    1    2    3    4    5    6    7    8    9    ...  725  726  727  728  \\\n",
      "0    0    0    0    0    0    0    0    0    0    0  ...    0    0    0    0   \n",
      "1    0    0    0    0    0    0    0    0    0    0  ...    0    0    0    0   \n",
      "2    0    0    0    0    0    0    0    0    0    0  ...    0    0    0    0   \n",
      "3    0    0    0    0    0    0    0    0    0    0  ...    0    0    0    0   \n",
      "4    0    0    0    0    0    0    0    0    0    0  ...    0    0    1    0   \n",
      "5    0    0    0    0    0    0    0    0    0    0  ...    0    0    0    0   \n",
      "6    0    0    0    0    0    0    0    0    0    0  ...    0    0    0    1   \n",
      "7    0    0    0    0    0    0    0    0    0    0  ...    0    0    0    0   \n",
      "8    0    0    0    0    0    0    0    0    0    0  ...    0    0    0    0   \n",
      "9    0    0    0    0    0    0    0    0    0    0  ...    0    0    0    0   \n",
      "\n",
      "   729  730  731  732  733  734  \n",
      "0    0    0    0    0    0    0  \n",
      "1    0    0    0    0    0    0  \n",
      "2    0    0    0    0    0    0  \n",
      "3    0    0    0    0    0    0  \n",
      "4    0    0    0    0    0    0  \n",
      "5    0    0    0    0    0    0  \n",
      "6    0    0    0    0    0    0  \n",
      "7    0    0    0    0    0    0  \n",
      "8    0    0    0    0    0    0  \n",
      "9    0    0    0    0    0    0  \n",
      "\n",
      "[10 rows x 735 columns] 2450\n"
     ]
    }
   ],
   "source": [
    "import pandas as pd\n",
    "from sklearn.feature_extraction.text import CountVectorizer, TfidfVectorizer\n",
    " \n",
    "CountVec = CountVectorizer()\n",
    "#transform\n",
    "Count_data = CountVec.fit_transform(df_upsampled.Drug)\n",
    " \n",
    "#create dataframe\n",
    "cv_dataframe=pd.DataFrame(Count_data.toarray())\n",
    "print(cv_dataframe.head(10),len(cv_dataframe))"
   ]
  },
  {
   "cell_type": "code",
   "execution_count": 12,
   "id": "cf56826e",
   "metadata": {},
   "outputs": [],
   "source": [
    "from sklearn.model_selection import train_test_split\n",
    "X_train, X_test, y_train, y_test = train_test_split(cv_dataframe, y, test_size=0.33, random_state=42)"
   ]
  },
  {
   "cell_type": "code",
   "execution_count": 13,
   "id": "00e72708",
   "metadata": {},
   "outputs": [
    {
     "data": {
      "text/html": [
       "<style>#sk-container-id-1 {color: black;background-color: white;}#sk-container-id-1 pre{padding: 0;}#sk-container-id-1 div.sk-toggleable {background-color: white;}#sk-container-id-1 label.sk-toggleable__label {cursor: pointer;display: block;width: 100%;margin-bottom: 0;padding: 0.3em;box-sizing: border-box;text-align: center;}#sk-container-id-1 label.sk-toggleable__label-arrow:before {content: \"▸\";float: left;margin-right: 0.25em;color: #696969;}#sk-container-id-1 label.sk-toggleable__label-arrow:hover:before {color: black;}#sk-container-id-1 div.sk-estimator:hover label.sk-toggleable__label-arrow:before {color: black;}#sk-container-id-1 div.sk-toggleable__content {max-height: 0;max-width: 0;overflow: hidden;text-align: left;background-color: #f0f8ff;}#sk-container-id-1 div.sk-toggleable__content pre {margin: 0.2em;color: black;border-radius: 0.25em;background-color: #f0f8ff;}#sk-container-id-1 input.sk-toggleable__control:checked~div.sk-toggleable__content {max-height: 200px;max-width: 100%;overflow: auto;}#sk-container-id-1 input.sk-toggleable__control:checked~label.sk-toggleable__label-arrow:before {content: \"▾\";}#sk-container-id-1 div.sk-estimator input.sk-toggleable__control:checked~label.sk-toggleable__label {background-color: #d4ebff;}#sk-container-id-1 div.sk-label input.sk-toggleable__control:checked~label.sk-toggleable__label {background-color: #d4ebff;}#sk-container-id-1 input.sk-hidden--visually {border: 0;clip: rect(1px 1px 1px 1px);clip: rect(1px, 1px, 1px, 1px);height: 1px;margin: -1px;overflow: hidden;padding: 0;position: absolute;width: 1px;}#sk-container-id-1 div.sk-estimator {font-family: monospace;background-color: #f0f8ff;border: 1px dotted black;border-radius: 0.25em;box-sizing: border-box;margin-bottom: 0.5em;}#sk-container-id-1 div.sk-estimator:hover {background-color: #d4ebff;}#sk-container-id-1 div.sk-parallel-item::after {content: \"\";width: 100%;border-bottom: 1px solid gray;flex-grow: 1;}#sk-container-id-1 div.sk-label:hover label.sk-toggleable__label {background-color: #d4ebff;}#sk-container-id-1 div.sk-serial::before {content: \"\";position: absolute;border-left: 1px solid gray;box-sizing: border-box;top: 0;bottom: 0;left: 50%;z-index: 0;}#sk-container-id-1 div.sk-serial {display: flex;flex-direction: column;align-items: center;background-color: white;padding-right: 0.2em;padding-left: 0.2em;position: relative;}#sk-container-id-1 div.sk-item {position: relative;z-index: 1;}#sk-container-id-1 div.sk-parallel {display: flex;align-items: stretch;justify-content: center;background-color: white;position: relative;}#sk-container-id-1 div.sk-item::before, #sk-container-id-1 div.sk-parallel-item::before {content: \"\";position: absolute;border-left: 1px solid gray;box-sizing: border-box;top: 0;bottom: 0;left: 50%;z-index: -1;}#sk-container-id-1 div.sk-parallel-item {display: flex;flex-direction: column;z-index: 1;position: relative;background-color: white;}#sk-container-id-1 div.sk-parallel-item:first-child::after {align-self: flex-end;width: 50%;}#sk-container-id-1 div.sk-parallel-item:last-child::after {align-self: flex-start;width: 50%;}#sk-container-id-1 div.sk-parallel-item:only-child::after {width: 0;}#sk-container-id-1 div.sk-dashed-wrapped {border: 1px dashed gray;margin: 0 0.4em 0.5em 0.4em;box-sizing: border-box;padding-bottom: 0.4em;background-color: white;}#sk-container-id-1 div.sk-label label {font-family: monospace;font-weight: bold;display: inline-block;line-height: 1.2em;}#sk-container-id-1 div.sk-label-container {text-align: center;}#sk-container-id-1 div.sk-container {/* jupyter's `normalize.less` sets `[hidden] { display: none; }` but bootstrap.min.css set `[hidden] { display: none !important; }` so we also need the `!important` here to be able to override the default hidden behavior on the sphinx rendered scikit-learn.org. See: https://github.com/scikit-learn/scikit-learn/issues/21755 */display: inline-block !important;position: relative;}#sk-container-id-1 div.sk-text-repr-fallback {display: none;}</style><div id=\"sk-container-id-1\" class=\"sk-top-container\"><div class=\"sk-text-repr-fallback\"><pre>RandomForestClassifier(max_depth=10, random_state=8)</pre><b>In a Jupyter environment, please rerun this cell to show the HTML representation or trust the notebook. <br />On GitHub, the HTML representation is unable to render, please try loading this page with nbviewer.org.</b></div><div class=\"sk-container\" hidden><div class=\"sk-item\"><div class=\"sk-estimator sk-toggleable\"><input class=\"sk-toggleable__control sk-hidden--visually\" id=\"sk-estimator-id-1\" type=\"checkbox\" checked><label for=\"sk-estimator-id-1\" class=\"sk-toggleable__label sk-toggleable__label-arrow\">RandomForestClassifier</label><div class=\"sk-toggleable__content\"><pre>RandomForestClassifier(max_depth=10, random_state=8)</pre></div></div></div></div></div>"
      ],
      "text/plain": [
       "RandomForestClassifier(max_depth=10, random_state=8)"
      ]
     },
     "execution_count": 13,
     "metadata": {},
     "output_type": "execute_result"
    }
   ],
   "source": [
    "from sklearn.ensemble import RandomForestClassifier\n",
    "clf = RandomForestClassifier(max_depth=10, random_state=8)\n",
    "clf.fit(X_train, y_train)"
   ]
  },
  {
   "cell_type": "code",
   "execution_count": 14,
   "id": "43373574",
   "metadata": {},
   "outputs": [],
   "source": [
    "ypred=clf.predict(X_test)"
   ]
  },
  {
   "cell_type": "code",
   "execution_count": 15,
   "id": "dc98fc1c",
   "metadata": {},
   "outputs": [
    {
     "data": {
      "text/plain": [
       "0.7639060568603214"
      ]
     },
     "execution_count": 15,
     "metadata": {},
     "output_type": "execute_result"
    }
   ],
   "source": [
    "clf.score(X_test,y_test)"
   ]
  },
  {
   "cell_type": "code",
   "execution_count": 16,
   "id": "5ceeae57",
   "metadata": {},
   "outputs": [
    {
     "data": {
      "image/png": "[encoded data removed]",
      "text/plain": [
       "<Figure size 432x288 with 2 Axes>"
      ]
     },
     "metadata": {
      "needs_background": "light"
     },
     "output_type": "display_data"
    }
   ],
   "source": [
    "import matplotlib.pyplot as plt\n",
    "from sklearn import metrics\n",
    "\n",
    "confusion_matrix = metrics.confusion_matrix(y_test, ypred)\n",
    "\n",
    "cm_display = metrics.ConfusionMatrixDisplay(confusion_matrix = confusion_matrix, display_labels = [False, True])\n",
    "\n",
    "cm_display.plot()\n",
    "plt.show()"
   ]
  },
  {
   "cell_type": "code",
   "execution_count": 17,
   "id": "5112e33c",
   "metadata": {},
   "outputs": [
    {
     "name": "stdout",
     "output_type": "stream",
     "text": [
      "Precision for label 1: 0.761\n",
      "Precision for label 0: 0.767\n",
      "Recall: 0.774\n",
      "F-Measure: 0.767\n",
      "              precision    recall  f1-score   support\n",
      "\n",
      "           0       0.77      0.75      0.76       402\n",
      "           1       0.76      0.77      0.77       407\n",
      "\n",
      "    accuracy                           0.76       809\n",
      "   macro avg       0.76      0.76      0.76       809\n",
      "weighted avg       0.76      0.76      0.76       809\n",
      "\n"
     ]
    }
   ],
   "source": [
    "### As the classes are imbalanced and i have artificially included more classes i want to know the precision for both label\n",
    "from sklearn.metrics import precision_score\n",
    "from sklearn.metrics import recall_score\n",
    "from sklearn.metrics import f1_score\n",
    "from sklearn.metrics import classification_report\n",
    "\n",
    "\n",
    "precision = precision_score(y_test, ypred, average='binary', pos_label=1)\n",
    "print('Precision for label 1: %.3f' % precision)\n",
    "\n",
    "precision = precision_score(y_test, ypred, average='binary', pos_label=0)\n",
    "print('Precision for label 0: %.3f' % precision)\n",
    "\n",
    "recall = recall_score(y_test, ypred, average='binary')\n",
    "print('Recall: %.3f' % recall)\n",
    "score = f1_score(y_test, ypred, average='binary')\n",
    "print('F-Measure: %.3f' % score)\n",
    "\n",
    "print(classification_report(y_test, ypred))"
   ]
  },
  {
   "cell_type": "code",
   "execution_count": 18,
   "id": "6e1ce6ab",
   "metadata": {},
   "outputs": [
    {
     "ename": "SyntaxError",
     "evalue": "EOF while scanning triple-quoted string literal (<ipython-input-18-0e399be15dc0>, line 7)",
     "output_type": "error",
     "traceback": [
      "\u001b[1;36m  File \u001b[1;32m\"<ipython-input-18-0e399be15dc0>\"\u001b[1;36m, line \u001b[1;32m7\u001b[0m\n\u001b[1;33m    tokenizer.pad_token = tokenizer.eos_token\u001b[0m\n\u001b[1;37m                                             \n^\u001b[0m\n\u001b[1;31mSyntaxError\u001b[0m\u001b[1;31m:\u001b[0m EOF while scanning triple-quoted string literal\n"
     ]
    }
   ],
   "source": [
    "'''from transformers import AutoTokenizer, AutoModelForSequenceClassification, DataCollatorWithPadding\n",
    "\n",
    "model_name = \"ydshieh/tiny-random-gptj-for-sequence-classification\"\n",
    "\n",
    "tokenizer = AutoTokenizer.from_pretrained(model_name)\n",
    "\n",
    "tokenizer.pad_token = tokenizer.eos_token"
   ]
  },
  {
   "cell_type": "code",
   "execution_count": null,
   "id": "ea560756",
   "metadata": {},
   "outputs": [],
   "source": [
    "import tensorflow as tf\n",
    "class GNNNodeClassifier(tf.keras.Model):\n",
    "    def __init__(\n",
    "        self,\n",
    "        graph_info,\n",
    "        num_classes,\n",
    "        hidden_units,\n",
    "        aggregation_type=\"sum\",\n",
    "        combination_type=\"concat\",\n",
    "        dropout_rate=0.2,\n",
    "        normalize=True,\n",
    "        *args,\n",
    "        **kwargs,\n",
    "    ):\n",
    "        super(GNNNodeClassifier, self).__init__(*args, **kwargs)\n",
    "\n",
    "        # Unpack graph_info to three elements: node_features, edges, and edge_weight.\n",
    "        node_features, edges, edge_weights = graph_info\n",
    "        self.node_features = node_features\n",
    "        self.edges = edges\n",
    "        self.edge_weights = edge_weights\n",
    "        # Set edge_weights to ones if not provided.\n",
    "        if self.edge_weights is None:\n",
    "            self.edge_weights = tf.ones(shape=edges.shape[1])\n",
    "        # Scale edge_weights to sum to 1.\n",
    "        self.edge_weights = self.edge_weights / tf.math.reduce_sum(self.edge_weights)\n",
    "\n",
    "        # Create a process layer.\n",
    "        self.preprocess = create_ffn(hidden_units, dropout_rate, name=\"preprocess\")\n",
    "        # Create the first GraphConv layer.\n",
    "        self.conv1 = GraphConvLayer(\n",
    "            hidden_units,\n",
    "            dropout_rate,\n",
    "            aggregation_type,\n",
    "            combination_type,\n",
    "            normalize,\n",
    "            name=\"graph_conv1\",\n",
    "        )\n",
    "        # Create the second GraphConv layer.\n",
    "        self.conv2 = GraphConvLayer(\n",
    "            hidden_units,\n",
    "            dropout_rate,\n",
    "            aggregation_type,\n",
    "            combination_type,\n",
    "            normalize,\n",
    "            name=\"graph_conv2\",\n",
    "        )\n",
    "        # Create a postprocess layer.\n",
    "        self.postprocess = create_ffn(hidden_units, dropout_rate, name=\"postprocess\")\n",
    "        # Create a compute logits layer.\n",
    "        self.compute_logits = layers.Dense(units=num_classes, name=\"logits\")\n",
    "\n",
    "    def call(self, input_node_indices):\n",
    "        # Preprocess the node_features to produce node representations.\n",
    "        x = self.preprocess(self.node_features)\n",
    "        # Apply the first graph conv layer.\n",
    "        x1 = self.conv1((x, self.edges, self.edge_weights))\n",
    "        # Skip connection.\n",
    "        x = x1 + x\n",
    "        # Apply the second graph conv layer.\n",
    "        x2 = self.conv2((x, self.edges, self.edge_weights))\n",
    "        # Skip connection.\n",
    "        x = x2 + x\n",
    "        # Postprocess node embedding.\n",
    "        x = self.postprocess(x)\n",
    "        # Fetch node embeddings for the input node_indices.\n",
    "        node_embeddings = tf.squeeze(tf.gather(x, input_node_indices))\n",
    "        # Compute logits\n",
    "        return self.compute_logits(node_embeddings)"
   ]
  },
  {
   "cell_type": "code",
   "execution_count": null,
   "id": "ad9e4b37",
   "metadata": {},
   "outputs": [],
   "source": [
    "gnn_model = GNNNodeClassifier(\n",
    "    graph_info=graph_info,\n",
    "    num_classes=num_classes,\n",
    "    hidden_units=hidden_units,\n",
    "    dropout_rate=dropout_rate,\n",
    "    name=\"gnn_model\",\n",
    ")\n",
    "\n",
    "print(\"GNN output shape:\", gnn_model([1, 10, 100]))\n",
    "\n",
    "gnn_model.summary()\n",
    "\n"
   ]
  },
  {
   "cell_type": "code",
   "execution_count": null,
   "id": "a1b852f6",
   "metadata": {},
   "outputs": [],
   "source": [
    "def tokenize_function(examples):\n",
    "  return tokenizer(examples, truncation = True, max_length = 512, padding = True)\n",
    "tokenized_datasets = split['train'][\"Drug\"].map(tokenize_function)\n",
    "tokenized_datasets[\"Drugi\"] = split['train'][\"Drug\"].map(tokenize_function)"
   ]
  },
  {
   "cell_type": "code",
   "execution_count": null,
   "id": "866cddd8",
   "metadata": {},
   "outputs": [],
   "source": [
    "#df_upsampled=df_upsampled.merge(tokenized_datasets.to_frame(), left_index=True, right_index=True)\n",
    "#df_upsampled.head()"
   ]
  },
  {
   "cell_type": "code",
   "execution_count": null,
   "id": "a2503678",
   "metadata": {},
   "outputs": [],
   "source": [
    "split['train']['tok']=tokenized_datasets['Drugi']\n",
    "newd=split['train'][['tok','Y']]\n",
    "newd = newd.rename(columns={\"Y\":\"labels\"})\n"
   ]
  },
  {
   "cell_type": "code",
   "execution_count": null,
   "id": "7b597e33",
   "metadata": {},
   "outputs": [],
   "source": [
    "newd=newd[0:1000]\n",
    "print(newd.head(24))"
   ]
  },
  {
   "cell_type": "code",
   "execution_count": null,
   "id": "e571b7ec",
   "metadata": {},
   "outputs": [],
   "source": [
    "len(newd)"
   ]
  },
  {
   "cell_type": "code",
   "execution_count": null,
   "id": "eed45872",
   "metadata": {},
   "outputs": [],
   "source": [
    "model = AutoModelForSequenceClassification.from_pretrained(model_name, num_labels=2)\n",
    "\n",
    "# resize model embedding to match new tokenizer\n",
    "model.resize_token_embeddings(len(tokenizer))"
   ]
  },
  {
   "cell_type": "code",
   "execution_count": null,
   "id": "3285ee46",
   "metadata": {},
   "outputs": [],
   "source": [
    "df_upsampled.head(24)"
   ]
  },
  {
   "cell_type": "code",
   "execution_count": null,
   "id": "0ec44cd3",
   "metadata": {},
   "outputs": [],
   "source": [
    "import numpy as np\n",
    "from datasets import load_metric\n",
    "\n",
    "metric = load_metric(\"accuracy\")\n",
    "\n",
    "def compute_metrics(eval_pred):\n",
    "    logits, labels = eval_pred\n",
    "    predictions = np.argmax(logits[0], axis = -1)\n",
    "    return metric.compute(predictions=predictions, references=labels)"
   ]
  },
  {
   "cell_type": "code",
   "execution_count": null,
   "id": "174e59d4",
   "metadata": {},
   "outputs": [],
   "source": [
    "from transformers import TrainingArguments, Trainer\n",
    "\n",
    "training_args = TrainingArguments(output_dir=\"test_trainer\",\n",
    "                                  evaluation_strategy=\"epoch\",\n",
    "                                  fp16 = True,\n",
    "                                  per_device_train_batch_size= 1,\n",
    "                                  per_device_eval_batch_size= 1\n",
    "                                  )"
   ]
  },
  {
   "cell_type": "code",
   "execution_count": null,
   "id": "14df1bc7",
   "metadata": {},
   "outputs": [],
   "source": [
    "trainer = Trainer(\n",
    "    model=model,\n",
    "    args=training_args,\n",
    "    train_dataset=newd,\n",
    "    eval_dataset=newd,\n",
    "    compute_metrics=compute_metrics,\n",
    "    tokenizer=tokenizer\n",
    ")"
   ]
  },
  {
   "cell_type": "code",
   "execution_count": null,
   "id": "d9b393f4",
   "metadata": {
    "scrolled": true
   },
   "outputs": [],
   "source": [
    "trainer.train()\n"
   ]
  },
  {
   "cell_type": "code",
   "execution_count": null,
   "id": "0c14e6e1",
   "metadata": {},
   "outputs": [],
   "source": [
    "from tensorflow.keras.models import Model\n",
    "from tensorflow.keras.layers import Dense, Dropout\n",
    "from spektral.layers import GCNConv, GlobalSumPool"
   ]
  },
  {
   "cell_type": "code",
   "execution_count": null,
   "id": "f94d115f",
   "metadata": {},
   "outputs": [],
   "source": [
    "class MyFirstGNN(Model):\n",
    "\n",
    "    def __init__(self, n_hidden, n_labels):\n",
    "        super().__init__()\n",
    "        self.graph_conv = GCNConv(n_hidden)\n",
    "        self.pool = GlobalSumPool()\n",
    "        self.dropout = Dropout(0.5)\n",
    "        self.dense = Dense(n_labels, 'softmax')\n",
    "\n",
    "    def call(self, inputs):\n",
    "        out = self.graph_conv(inputs)\n",
    "        out = self.dropout(out)\n",
    "        out = self.pool(out)\n",
    "        out = self.dense(out)\n",
    "\n",
    "        return out"
   ]
  },
  {
   "cell_type": "code",
   "execution_count": null,
   "id": "f283a436",
   "metadata": {},
   "outputs": [],
   "source": [
    "model = MyFirstGNN(32,2)\n",
    "model.compile('adam', 'categorical_crossentropy')"
   ]
  },
  {
   "cell_type": "code",
   "execution_count": null,
   "id": "8274c2c3",
   "metadata": {},
   "outputs": [],
   "source": [
    "from spektral.data import BatchLoader\n",
    "\n",
    "loader = BatchLoader(split['train'], batch_size=32)"
   ]
  },
  {
   "cell_type": "code",
   "execution_count": null,
   "id": "7e9d389b",
   "metadata": {},
   "outputs": [],
   "source": [
    "import torch\n",
    "import tensorflow as tf\n",
    "\n",
    "optimizer = tf.keras.optimizers.Adam(0.001, beta_1=0.9, beta_2=0.98, epsilon=1e-9)\n",
    "\n",
    "model.train()\n",
    "for epoch in range(200):\n",
    "    optimizer.zero_grad()\n",
    "    out = model(data)\n",
    "    loss = F.nll_loss(out[data.train_mask], data.y[data.train_mask])\n",
    "    loss.backward()\n",
    "    optimizer.step()"
   ]
  },
  {
   "cell_type": "code",
   "execution_count": null,
   "id": "bb9d3e0b",
   "metadata": {},
   "outputs": [],
   "source": [
    "print(cv_dataframe)"
   ]
  },
  {
   "cell_type": "code",
   "execution_count": null,
   "id": "52d34b0c",
   "metadata": {},
   "outputs": [],
   "source": [
    "import networkx as nx\n",
    "G = nx.from_pandas_edgelist(df_upsampled,'Drug','Y')\n"
   ]
  },
  {
   "cell_type": "code",
   "execution_count": null,
   "id": "f9ab8c4d",
   "metadata": {},
   "outputs": [],
   "source": [
    "import stellargraph as sg\n",
    "from stellargraph.mapper import FullBatchNodeGenerator\n",
    "from stellargraph.layer import GCN\n",
    "generator = FullBatchNodeGenerator(sg(df_upsampled), method=\"gcn\")\n"
   ]
  },
  {
   "cell_type": "code",
   "execution_count": null,
   "id": "bf431775",
   "metadata": {},
   "outputs": [],
   "source": []
  },
  {
   "cell_type": "code",
   "execution_count": null,
   "id": "750b7579",
   "metadata": {},
   "outputs": [],
   "source": [
    "from spektral.data import BatchLoader\n",
    "\n",
    "loader = BatchLoader(G, batch_size=32)"
   ]
  },
  {
   "cell_type": "code",
   "execution_count": null,
   "id": "1cfc1914",
   "metadata": {},
   "outputs": [],
   "source": [
    "model.fit(split['train'])"
   ]
  },
  {
   "cell_type": "code",
   "execution_count": null,
   "id": "2e8479ba",
   "metadata": {},
   "outputs": [],
   "source": [
    "from torch_geometric.data import Data\n"
   ]
  },
  {
   "cell_type": "code",
   "execution_count": null,
   "id": "fef6c6b7",
   "metadata": {},
   "outputs": [],
   "source": [
    "from transformers import AutoTokenizer\n",
    "\n",
    "tokenizer = AutoTokenizer.from_pretrained(\"distilbert-base-uncased\")"
   ]
  },
  {
   "cell_type": "code",
   "execution_count": null,
   "id": "2a98b0b7",
   "metadata": {},
   "outputs": [],
   "source": [
    "from transformers import AutoModelForSequenceClassification, TrainingArguments, Trainer\n",
    "\n",
    "model = AutoModelForSequenceClassification.from_pretrained(\n",
    "    \"distilbert-base-uncased\")"
   ]
  },
  {
   "cell_type": "code",
   "execution_count": null,
   "id": "ba65ada3",
   "metadata": {},
   "outputs": [],
   "source": [
    "df=df_upsampled[['Drug','Y']]"
   ]
  },
  {
   "cell_type": "code",
   "execution_count": null,
   "id": "6e715a46",
   "metadata": {},
   "outputs": [],
   "source": [
    "def preprocess_function(examples):\n",
    "    return tokenizer(examples, truncation=True)\n",
    "tokenized = df_upsampled['Drug'].map(preprocess_function)\n",
    "df_upsampled['Drugi']=tokenized"
   ]
  },
  {
   "cell_type": "code",
   "execution_count": null,
   "id": "79b277b5",
   "metadata": {},
   "outputs": [],
   "source": [
    "print(df_upsampled)"
   ]
  },
  {
   "cell_type": "code",
   "execution_count": null,
   "id": "6a7221a2",
   "metadata": {},
   "outputs": [],
   "source": [
    "X_train=df_upsampled[['Drugi','Y']][:1200]\n",
    "X_test=df_upsampled[['label','Y']][1200:]"
   ]
  },
  {
   "cell_type": "code",
   "execution_count": null,
   "id": "33558cc1",
   "metadata": {},
   "outputs": [],
   "source": [
    "print(X_train.iloc[685])"
   ]
  },
  {
   "cell_type": "code",
   "execution_count": null,
   "id": "3ee4753f",
   "metadata": {},
   "outputs": [],
   "source": [
    "from transformers import DataCollatorWithPadding\n",
    "\n",
    "data_collator = DataCollatorWithPadding(tokenizer=tokenizer, return_tensors=\"tf\")"
   ]
  },
  {
   "cell_type": "code",
   "execution_count": null,
   "id": "33073561",
   "metadata": {},
   "outputs": [],
   "source": [
    "import numpy as np\n",
    "\n",
    "\n",
    "def compute_metrics(eval_pred):\n",
    "    predictions, labels = eval_pred\n",
    "    predictions = np.argmax(predictions, axis=1)\n",
    "    print(predictions)\n",
    "    return accuracy.compute(predictions=predictions, references=labels)"
   ]
  },
  {
   "cell_type": "code",
   "execution_count": null,
   "id": "75410055",
   "metadata": {},
   "outputs": [],
   "source": [
    "\n",
    "\n",
    "trainer = Trainer(\n",
    "    model=model,\n",
    "    train_dataset=X_train,\n",
    "    eval_dataset=X_test,\n",
    "    tokenizer=tokenizer\n",
    ")\n",
    "\n",
    "trainer.train()"
   ]
  },
  {
   "cell_type": "code",
   "execution_count": null,
   "id": "142668cc",
   "metadata": {},
   "outputs": [],
   "source": [
    "from transformers import TFAutoModel, AutoTokenizer\n",
    "import tensorflow as tf\n",
    "\n",
    "bert = TFAutoModel.from_pretrained(\"bert-base-cased\")\n",
    "tokenizer = AutoTokenizer.from_pretrained(\"bert-base-cased\")\n",
    "def tokenize(sentence):\n",
    "    tokens = tokenizer.encode_plus(sentence, max_length=SEQ_LEN,\n",
    "                                   truncation=True, padding='max_length',\n",
    "                                   add_special_tokens=True, return_attention_mask=True,\n",
    "                                   return_token_type_ids=False, return_tensors='tf')\n",
    "    return tokens['input_ids'], tokens['attention_mask']\n",
    "SEQ_LEN=50\n",
    "Xids = np.zeros((len(df_upsampled), SEQ_LEN))\n",
    "Xmask = np.zeros((len(df_upsampled), SEQ_LEN))\n",
    "labels=df_upsampled['Y']\n",
    "# loop through data and tokenize everything\n",
    "for i, sentence in enumerate(df_upsampled['Drug']):\n",
    "    Xids[i, :], Xmask[i, :] = tokenize(sentence)\n",
    "    \n",
    "    \n",
    "    \n",
    "dataset = tf.data.Dataset.from_tensor_slices((Xids, Xmask, labels))\n",
    "\n",
    "# restructure dataset format for BERT\n",
    "def map_func(input_ids, masks, labels):\n",
    "    return {'input_ids': input_ids, 'attention_mask': masks}, labels\n",
    "  \n",
    "dataset = dataset.map(map_func)  # apply the mapping function\n",
    "\n",
    "# shuffle and batch the dataset\n",
    "dataset = dataset.shuffle(10000).batch(32)\n",
    "\n",
    "DS_LEN = len(list(dataset))  # get dataset length\n",
    "\n",
    "SPLIT = 0.9  # we will create a 90-10 split\n",
    "\n",
    "# create training-validation sets\n",
    "train = dataset.take(round(DS_LEN*SPLIT))\n",
    "val = dataset.skip(round(DS_LEN*SPLIT))\n",
    "\n",
    "# free up space\n",
    "del dataset\n",
    "\n",
    "# build the model\n",
    "input_ids = tf.keras.layers.Input(shape=(50,), name='input_ids', dtype='int32')\n",
    "mask = tf.keras.layers.Input(shape=(50,), name='attention_mask', dtype='int32')\n",
    "\n",
    "\n",
    "\n",
    "embeddings = bert(input_ids, attention_mask=mask)[0]  # we only keep tensor 0 (last_hidden_state)\n",
    "\n",
    "X = tf.keras.layers.GlobalMaxPool1D()(embeddings)  # reduce tensor dimensionality\n",
    "X = tf.keras.layers.BatchNormalization()(X)\n",
    "X = tf.keras.layers.Dense(128, activation='relu')(X)\n",
    "X = tf.keras.layers.Dropout(0.1)(X)\n",
    "y = tf.keras.layers.Dense(1, activation='softmax', name='outputs')(X)  # adjust based on number of sentiment classes\n",
    "\n",
    "model = tf.keras.Model(inputs=[input_ids, mask], outputs=y)\n",
    "\n",
    "# freeze the BERT layer\n",
    "model.layers[2].trainable = False\n",
    "\n",
    "# compile the model\n",
    "optimizer = tf.keras.optimizers.Adam(0.00001)\n",
    "loss = tf.keras.losses.CategoricalCrossentropy()\n",
    "acc = tf.keras.metrics.CategoricalAccuracy('accuracy')\n",
    "\n",
    "model.compile(optimizer=optimizer, loss=loss, metrics=[acc])\n",
    "\n",
    "# and train it\n",
    "history = model.fit(train, epochs=20)"
   ]
  },
  {
   "cell_type": "code",
   "execution_count": null,
   "id": "bc961cc9",
   "metadata": {},
   "outputs": [],
   "source": [
    "model.predict(val)"
   ]
  },
  {
   "cell_type": "code",
   "execution_count": null,
   "id": "eef89f40",
   "metadata": {},
   "outputs": [],
   "source": [
    "import torch\n",
    "import torch.nn.functional as F\n",
    "\n",
    "class GCN(torch.nn.Module):\n",
    "    def __init__(self):\n",
    "        super().__init__()\n",
    "        self.conv1 = GCNConv(1, 'relu')\n",
    "        self.conv2 = GCNConv(16, 'softmax')\n",
    "\n",
    "    def forward(self, data):\n",
    "        x, edge_index = data.x, data.edge_index\n",
    "\n",
    "        x = self.conv1(x, edge_index)\n",
    "        x = F.relu(x)\n",
    "        x = F.dropout(x, training=self.training)\n",
    "        x = self.conv2(x, edge_index)\n",
    "\n",
    "        return F.log_softmax(x, dim=1)"
   ]
  },
  {
   "cell_type": "code",
   "execution_count": null,
   "id": "4d2857b0",
   "metadata": {},
   "outputs": [],
   "source": [
    "device = torch.device('cuda' if torch.cuda.is_available() else 'cpu')\n",
    "model = GCN().to(device)\n",
    "data = df_upsampled\n",
    "optimizer = torch.optim.Adam(model.parameters(), lr=0.01, weight_decay=5e-4)\n",
    "\n",
    "model.train()\n",
    "for epoch in range(200):\n",
    "    optimizer.zero_grad()\n",
    "    out = model(data)\n",
    "    loss = F.nll_loss(out[data.train_mask], data.y[data.train_mask])\n",
    "    loss.backward()\n",
    "    optimizer.step()"
   ]
  },
  {
   "cell_type": "code",
   "execution_count": null,
   "id": "d1462fde",
   "metadata": {},
   "outputs": [],
   "source": []
  }
 ],
 "metadata": {
  "kernelspec": {
   "display_name": "Python 3",
   "language": "python",
   "name": "python3"
  },
  "language_info": {
   "codemirror_mode": {
    "name": "ipython",
    "version": 3
   },
   "file_extension": ".py",
   "mimetype": "text/x-python",
   "name": "python",
   "nbconvert_exporter": "python",
   "pygments_lexer": "ipython3",
   "version": "3.8.8"
  }
 },
 "nbformat": 4,
 "nbformat_minor": 5
}
